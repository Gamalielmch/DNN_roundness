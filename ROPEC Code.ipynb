{
 "cells": [
  {
   "cell_type": "code",
   "execution_count": 8,
   "metadata": {},
   "outputs": [],
   "source": [
    "import pandas as pd\n",
    "import numpy as np\n",
    "import statistics\n",
    "import math\n",
    "from keras import Sequential\n",
    "from keras.layers import Dense\n",
    "from keras.callbacks import EarlyStopping\n",
    "import keras\n",
    "from sklearn.model_selection import train_test_split\n",
    "import tensorflow as tf\n",
    "from keras.wrappers.scikit_learn import KerasClassifier\n",
    "from sklearn.preprocessing import StandardScaler\n",
    "import matplotlib.pyplot as plt\n",
    "from sklearn.metrics import mean_squared_error"
   ]
  },
  {
   "cell_type": "code",
   "execution_count": 53,
   "metadata": {},
   "outputs": [],
   "source": [
    "data = pd.read_csv(\"roundnessdata.csv\",skip_blank_lines = False) #Database1"
   ]
  },
  {
   "cell_type": "code",
   "execution_count": 57,
   "metadata": {},
   "outputs": [
    {
     "data": {
      "text/plain": [
       "0       0.146758\n",
       "1       0.119043\n",
       "2       0.149369\n",
       "3       0.127394\n",
       "4       0.095631\n",
       "5       0.142799\n",
       "6       0.128620\n",
       "7       0.135684\n",
       "8       0.134025\n",
       "9       0.133008\n",
       "10      0.128317\n",
       "11      0.135888\n",
       "12      0.132935\n",
       "13      0.147340\n",
       "14      0.136824\n",
       "15      0.109492\n",
       "16      0.129685\n",
       "17      0.137099\n",
       "18      0.141224\n",
       "19      0.105855\n",
       "20      0.138122\n",
       "21      0.050000\n",
       "22      0.129254\n",
       "23      0.128558\n",
       "24      0.127953\n",
       "25      0.089343\n",
       "26      0.149074\n",
       "27      0.134504\n",
       "28      0.140256\n",
       "29      0.142661\n",
       "          ...   \n",
       "1804    0.865999\n",
       "1805    0.851098\n",
       "1806    0.859330\n",
       "1807    0.855567\n",
       "1808    0.910000\n",
       "1809    0.883000\n",
       "1810    0.924000\n",
       "1811    0.869699\n",
       "1812    0.867424\n",
       "1813    0.852454\n",
       "1814    0.873721\n",
       "1815    0.873828\n",
       "1816    0.852000\n",
       "1817    0.870000\n",
       "1818    0.861640\n",
       "1819    0.888000\n",
       "1820    0.868000\n",
       "1821    0.938000\n",
       "1822    0.932000\n",
       "1823    0.894564\n",
       "1824    0.899108\n",
       "1825    0.944000\n",
       "1826    0.924155\n",
       "1827    0.899000\n",
       "1828    0.941304\n",
       "1829    0.903000\n",
       "1830    0.933000\n",
       "1831    0.918000\n",
       "1832    0.925000\n",
       "1833    0.950000\n",
       "Name: roundness, Length: 1834, dtype: float64"
      ]
     },
     "execution_count": 57,
     "metadata": {},
     "output_type": "execute_result"
    }
   ],
   "source": [
    "data.roundness"
   ]
  },
  {
   "cell_type": "code",
   "execution_count": null,
   "metadata": {},
   "outputs": [],
   "source": [
    "##Neural network, fitting, prediction and plots of train and test sets against prediction\n",
    "train_x = data.iloc[:,1:data.shape[1]]\n",
    "train_y = pd.DataFrame(data.roundness)\n",
    "train_x, test_x, train_y, test_y = train_test_split(train_x, train_y, test_size=0.1)\n",
    "\n",
    "sc = StandardScaler() \n",
    "train_x = sc.fit_transform(train_x) \n",
    "test_x = sc.transform(test_x)\n",
    "\n",
    "n_cols = train_x.shape[1] \n",
    "model = Sequential() \n",
    "model.add(Dense(1000, activation=\"relu\", input_shape=(n_cols,))) \n",
    "model.add(Dense(150,activation=\"relu\")) \n",
    "model.add(Dense(500,activation=\"relu\")) \n",
    "model.add(Dense(150,activation=\"relu\")) \n",
    "model.add(Dense(400,activation=\"relu\")) \n",
    "model.add(Dense(75,activation=\"relu\"))\n",
    "model.add(Dense(200,activation=\"relu\"))\n",
    "model.add(Dense(500,activation=\"relu\"))\n",
    "model.add(Dense(500,activation=\"relu\")) \n",
    "model.add(Dense(500,activation=\"relu\")) \n",
    "model.add(Dense(500,activation=\"relu\")) \n",
    "model.add(Dense(500,activation=\"relu\")) \n",
    "model.add(Dense(500,activation=\"relu\")) \n",
    "model.add(Dense(500,activation=\"relu\")) \n",
    "model.add(Dense(500,activation=\"relu\")) \n",
    "model.add(Dense(500,activation=\"relu\")) \n",
    "model.add(Dense(500,activation=\"relu\")) \n",
    "model.add(Dense(500,activation=\"relu\")) \n",
    "model.add(Dense(500,activation=\"relu\")) \n",
    "model.add(Dense(500,activation=\"relu\")) \n",
    "model.add(Dense(500,activation=\"relu\")) \n",
    "model.add(Dense(500,activation=\"relu\")) \n",
    "model.add(Dense(500,activation=\"relu\")) \n",
    "model.add(Dense(500,activation=\"relu\")) \n",
    "model.add(Dense(500,activation=\"relu\")) \n",
    "model.add(Dense(500,activation=\"relu\")) \n",
    "model.add(Dense(5,activation=\"relu\"))\n",
    "model.add(Dense(5,activation=\"relu\"))\n",
    "model.add(Dense(1,activation=\"linear\")) \n",
    "opt = keras.optimizers.Adam(\n",
    "    learning_rate=0.001,\n",
    "    beta_1=0.50,\n",
    "    beta_2=0.7,\n",
    "    epsilon=1e-13)\n",
    "\n",
    "model.compile(optimizer=opt, loss='mse',metrics=['mae','mse','mape'])\n",
    "\n",
    "early_stopping_monitor = EarlyStopping(patience=18,monitor='loss')\n",
    "model.fit(train_x,train_y,validation_data = (test_x,test_y),callbacks=[early_stopping_monitor], epochs=600,verbose=0)\n",
    "\n",
    "#\n",
    "train_y = train_y.reset_index().sort_values('index') \n",
    "train_x = train_x[train_y.index]\n",
    "train_y = train_y.reset_index() \n",
    "ynew = model.predict(train_x) \n",
    "diff = abs(ynew - train_y) \n",
    "dummy_y = train_y \n",
    "dummy_y['predicted'] = ynew \n",
    "mse = mean_squared_error(dummy_y['roundness'], dummy_y['predicted']) \n",
    "me = statistics.stdev(dummy_y['predicted'])/math.sqrt(dummy_y['predicted'].shape[0]) \n",
    "fig0 = plt.figure(0,figsize=(20,10)) \n",
    "plt.plot(dummy_y['predicted'].sort_index(), label=\"Prediction\") \n",
    "plt.plot(dummy_y['roundness'].sort_index(), label=\"Training set\") \n",
    "plt.rc('legend', fontsize=25) \n",
    "plt.ylabel('Roundness degree', fontsize=30) \n",
    "plt.xlabel('Images', fontsize=30) \n",
    "plt.legend(loc=\"upper left\")\n",
    "\n",
    "#plt.title(\"Resultado del entrenamiento de la red neuronal profunda\",fontsize=35)\n",
    "plt.xticks(size = 25) \n",
    "plt.yticks(size = 25) \n",
    "plt.grid(True)\n",
    "plt.show \n",
    "plt.savefig('trainingComparition.png')\n",
    "\n",
    "##Test\n",
    "\n",
    "test_res = test_y \n",
    "\n",
    "test_res = test_res.reset_index().sort_values('index') \n",
    "test_x = test_x[test_res.index]\n",
    "test_res = test_res.reset_index() \n",
    "ynew = model.predict(test_x) \n",
    "diff2 = abs(ynew - test_y) \n",
    "test_res['predicted'] = ynew \n",
    "mse2 = mean_squared_error(test_res['roundness'], test_res['predicted']) \n",
    "me2 = statistics.stdev(test_res['predicted'])/math.sqrt(test_res['predicted'].shape[0]) \n",
    "plt.figure(figsize=(20,10)) \n",
    "plt.plot(test_res['predicted'].sort_index(), label=\"Prediction\") \n",
    "plt.plot(test_res['roundness'].sort_index(), label=\"Test set\") \n",
    "plt.rc('legend', fontsize=25) \n",
    "plt.ylabel('Roundness degree', fontsize=30) \n",
    "plt.xlabel('Images', fontsize=30) \n",
    "plt.legend(loc=\"upper left\")\n",
    "\n",
    "plt.xticks(size = 25) \n",
    "plt.yticks(size = 25) \n",
    "plt.grid(True) \n",
    "plt.show\n",
    "plt.savefig('testComparition.png')"
   ]
  },
  {
   "cell_type": "code",
   "execution_count": 45,
   "metadata": {},
   "outputs": [
    {
     "data": {
      "text/plain": [
       "0.0030994580925655804"
      ]
     },
     "execution_count": 45,
     "metadata": {},
     "output_type": "execute_result"
    }
   ],
   "source": [
    "#Mean squared error of training set\n",
    "mse"
   ]
  },
  {
   "cell_type": "code",
   "execution_count": 46,
   "metadata": {},
   "outputs": [
    {
     "data": {
      "text/plain": [
       "0.00715509193897901"
      ]
     },
     "execution_count": 46,
     "metadata": {},
     "output_type": "execute_result"
    }
   ],
   "source": [
    "#Mean error of training set\n",
    "me"
   ]
  },
  {
   "cell_type": "code",
   "execution_count": 47,
   "metadata": {},
   "outputs": [
    {
     "data": {
      "text/plain": [
       "0.05017247098857548"
      ]
     },
     "execution_count": 47,
     "metadata": {},
     "output_type": "execute_result"
    }
   ],
   "source": [
    "#Mean squared error of test set\n",
    "mse2"
   ]
  },
  {
   "cell_type": "code",
   "execution_count": 48,
   "metadata": {},
   "outputs": [
    {
     "data": {
      "text/plain": [
       "0.01713843388291858"
      ]
     },
     "execution_count": 48,
     "metadata": {},
     "output_type": "execute_result"
    }
   ],
   "source": [
    "#Mean error of test set\n",
    "me2"
   ]
  },
  {
   "cell_type": "code",
   "execution_count": 22,
   "metadata": {},
   "outputs": [
    {
     "data": {
      "image/png": "[encoded data removed]",
      "text/plain": [
       "<Figure size 1440x432 with 1 Axes>"
      ]
     },
     "metadata": {
      "needs_background": "light"
     },
     "output_type": "display_data"
    }
   ],
   "source": [
    "#Histogram of absolute differences Train set\n",
    "abEr = abs(dummy_y['roundness']-dummy_y['predicted'])\n",
    "fig=plt.figure(figsize=(20,6))\n",
    "n, bins, patches = plt.hist(abEr, 60, facecolor='red', alpha=0.5)\n",
    "\n",
    "# add a 'best fit' line\n",
    "plt.xlabel('Absolute difference', fontsize=20)\n",
    "plt.ylabel('Frecuency', fontsize=20)\n",
    "\n",
    "# Tweak spacing to prevent clipping of ylabel\n",
    "plt.xticks(size = 20)\n",
    "plt.yticks(size = 20)\n",
    "plt.grid(True)\n",
    "#plt.title(\"Histograma del error absoluto\",fontsize=28)\n",
    "plt.show()\n",
    "fig.savefig('histogramaErrorAbTrain.png')"
   ]
  },
  {
   "cell_type": "code",
   "execution_count": 23,
   "metadata": {},
   "outputs": [
    {
     "data": {
      "image/png": "[encoded data removed]",
      "text/plain": [
       "<Figure size 1440x432 with 1 Axes>"
      ]
     },
     "metadata": {
      "needs_background": "light"
     },
     "output_type": "display_data"
    }
   ],
   "source": [
    "#Histogram of differences Train set\n",
    "er = dummy_y['roundness']-dummy_y['predicted']\n",
    "fig=plt.figure(figsize=(20,6))\n",
    "n, bins, patches = plt.hist(er, 60, facecolor='red', alpha=0.5)\n",
    "\n",
    "# add a 'best fit' line\n",
    "plt.xlabel('Difference', fontsize=20)\n",
    "plt.ylabel('Frecuency', fontsize=20)\n",
    "\n",
    "# Tweak spacing to prevent clipping of ylabel\n",
    "plt.xticks(size = 20)\n",
    "plt.yticks(size = 20)\n",
    "plt.grid(True)\n",
    "#plt.title(\"Histograma del error absoluto\",fontsize=28)\n",
    "plt.show()\n",
    "fig.savefig('histogramaErrorTrain.png')"
   ]
  },
  {
   "cell_type": "code",
   "execution_count": 24,
   "metadata": {},
   "outputs": [
    {
     "data": {
      "image/png": "[encoded data removed]",
      "text/plain": [
       "<Figure size 1440x432 with 1 Axes>"
      ]
     },
     "metadata": {
      "needs_background": "light"
     },
     "output_type": "display_data"
    }
   ],
   "source": [
    "#Histogram of absolute differences test set\n",
    "abEr = abs(test_res['roundness']-test_res['predicted'])\n",
    "fig=plt.figure(figsize=(20,6))\n",
    "n, bins, patches = plt.hist(abEr, 60, facecolor='red', alpha=0.5)\n",
    "\n",
    "# add a 'best fit' line\n",
    "plt.xlabel('Absolute difference', fontsize=20)\n",
    "plt.ylabel('Frecuency', fontsize=20)\n",
    "\n",
    "# Tweak spacing to prevent clipping of ylabel\n",
    "plt.xticks(size = 20)\n",
    "plt.yticks(size = 20)\n",
    "plt.grid(True)\n",
    "#plt.title(\"Histograma del error absoluto\",fontsize=28)\n",
    "plt.show()\n",
    "fig.savefig('histogramaErrorAbTest.png')"
   ]
  },
  {
   "cell_type": "code",
   "execution_count": 26,
   "metadata": {},
   "outputs": [
    {
     "data": {
      "image/png": "[encoded data removed]",
      "text/plain": [
       "<Figure size 1440x432 with 1 Axes>"
      ]
     },
     "metadata": {
      "needs_background": "light"
     },
     "output_type": "display_data"
    }
   ],
   "source": [
    "#Histogram of differences test set\n",
    "er = test_res['roundness']-test_res['predicted']\n",
    "fig=plt.figure(figsize=(20,6))\n",
    "n, bins, patches = plt.hist(er, 60, facecolor='red', alpha=0.5)\n",
    "\n",
    "# add a 'best fit' line\n",
    "plt.xlabel('Difference', fontsize=20)\n",
    "plt.ylabel('Frecuency', fontsize=20)\n",
    "\n",
    "# Tweak spacing to prevent clipping of ylabel\n",
    "plt.xticks(size = 20)\n",
    "plt.yticks(size = 20)\n",
    "plt.grid(True)\n",
    "#plt.title(\"Histograma del error absoluto\",fontsize=28)\n",
    "plt.show()\n",
    "fig.savefig('histogramaErrorTest.png')"
   ]
  },
  {
   "cell_type": "code",
   "execution_count": 44,
   "metadata": {},
   "outputs": [
    {
     "data": {
      "text/plain": [
       "70.66666666666667"
      ]
     },
     "execution_count": 44,
     "metadata": {},
     "output_type": "execute_result"
    }
   ],
   "source": [
    "abEr = abs(dummy_y['roundness']-dummy_y['predicted'])\n",
    "set1 = abEr[abEr < 0.05]\n",
    "porc = 100*set1.shape[0]/abEr.shape[0]\n",
    "porc"
   ]
  },
  {
   "cell_type": "code",
   "execution_count": 52,
   "metadata": {},
   "outputs": [
    {
     "data": {
      "text/plain": [
       "69.02173913043478"
      ]
     },
     "execution_count": 52,
     "metadata": {},
     "output_type": "execute_result"
    }
   ],
   "source": [
    "abEr = abs(test_res['roundness']-test_res['predicted'])\n",
    "set1 = abEr[abEr < 0.2]\n",
    "porc = 100*set1.shape[0]/abEr.shape[0]\n",
    "porc"
   ]
  }
 ],
 "metadata": {
  "kernelspec": {
   "display_name": "Python 3",
   "language": "python",
   "name": "python3"
  },
  "language_info": {
   "codemirror_mode": {
    "name": "ipython",
    "version": 3
   },
   "file_extension": ".py",
   "mimetype": "text/x-python",
   "name": "python",
   "nbconvert_exporter": "python",
   "pygments_lexer": "ipython3",
   "version": "3.7.3"
  }
 },
 "nbformat": 4,
 "nbformat_minor": 2
}
